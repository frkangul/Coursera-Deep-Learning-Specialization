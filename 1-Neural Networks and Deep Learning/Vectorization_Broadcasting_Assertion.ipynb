{
 "cells": [
  {
   "cell_type": "code",
   "execution_count": 1,
   "metadata": {},
   "outputs": [
    {
     "name": "stdout",
     "output_type": "stream",
     "text": [
      "a: [[1 2 3]]\n",
      "b: [[4]\n",
      " [5]\n",
      " [6]]\n",
      "Broadcasting, a*b: [[ 4  8 12]\n",
      " [ 5 10 15]\n",
      " [ 6 12 18]]\n",
      "Dot operation, dot(a,b): [[32]]\n"
     ]
    }
   ],
   "source": [
    "import numpy as np\n",
    "import time\n",
    "\n",
    "a = np.array([[1,2,3]])\n",
    "b = np.array([[4],[5],[6]])\n",
    "print(\"a: \"+ str(a))\n",
    "print(\"b: \"+ str(b))\n",
    "#Broadcasting\n",
    "c = a*b\n",
    "print(\"Broadcasting, a*b: \"+str(c))\n",
    "#Dot operation on 1D vectors, it is vector multiplication\n",
    "c = np.dot(a,b)\n",
    "print(\"Dot operation, dot(a,b): \"+str(c))\n"
   ]
  },
  {
   "cell_type": "code",
   "execution_count": 2,
   "metadata": {},
   "outputs": [
    {
     "name": "stdout",
     "output_type": "stream",
     "text": [
      "a: [[1 2 3]\n",
      " [4 5 6]]\n",
      "b: [[0 1]\n",
      " [2 3]\n",
      " [4 5]]\n",
      "c: [[16 22]\n",
      " [34 49]]\n"
     ]
    }
   ],
   "source": [
    "#dot operation on 2D arrays, it is matrix multiplication\n",
    "a = np.array([[1,2,3],[4,5,6]])\n",
    "b = np.array([[0,1],[2,3],[4,5]])\n",
    "print(\"a: \"+ str(a))\n",
    "print(\"b: \"+ str(b))\n",
    "c = np.dot(a,b)\n",
    "print(\"c: \"+ str(c))"
   ]
  },
  {
   "cell_type": "code",
   "execution_count": 3,
   "metadata": {},
   "outputs": [
    {
     "name": "stdout",
     "output_type": "stream",
     "text": [
      "249832.132283403\n",
      "Vectorization takes 7.014751434326172 ms\n",
      "249832.13228340453\n",
      "Non-vectorization, for loop opt, takes 608.8016033172607 ms\n"
     ]
    }
   ],
   "source": [
    "#Don't use (n,)shaped rank 1 arrat, it can confuse you because it is neither column nor row vector\n",
    "#Try to be sure about the shape of your arrays by using assert and reshape\n",
    "a = np.random.rand(1000000)\n",
    "b = np.random.rand(1000000)\n",
    "\n",
    "tic = time.time()\n",
    "c = np.dot(a,b)\n",
    "toc = time.time()\n",
    "print(c)\n",
    "print(\"Vectorization takes \"+ str((toc - tic)*1000)+ \" ms\")\n",
    "\n",
    "tic = time.time()\n",
    "c = 0\n",
    "for i in range(1000000):\n",
    "    c+=a[i]*b[i]\n",
    "\n",
    "toc = time.time()\n",
    "print(c)\n",
    "print(\"Non-vectorization, for loop opt, takes \"+str(1000*(toc-tic)) +\" ms\")\n"
   ]
  },
  {
   "cell_type": "code",
   "execution_count": 4,
   "metadata": {},
   "outputs": [
    {
     "name": "stdout",
     "output_type": "stream",
     "text": [
      "[[2 3 4]\n",
      " [5 6 7]]\n",
      "[[ 6  7  8]\n",
      " [ 9 10 11]]\n",
      "[15 17 19]\n",
      "[[40.         41.17647059 42.10526316]\n",
      " [60.         58.82352941 57.89473684]]\n"
     ]
    }
   ],
   "source": [
    "#Broadcasting & assertion\n",
    "a = np.array([[1,2,3],[4,5,6]])\n",
    "b = a + np.array([[1,1,1]])\n",
    "print(b)\n",
    "c = a + 5\n",
    "print(c)\n",
    "assert(c.shape == (2,3))\n",
    "d = c.sum(axis=0)\n",
    "print(d)\n",
    "e = c/d\n",
    "print(100*e)"
   ]
  },
  {
   "cell_type": "code",
   "execution_count": 12,
   "metadata": {},
   "outputs": [
    {
     "name": "stdout",
     "output_type": "stream",
     "text": [
      "a: [[[1 2 3]\n",
      "  [5 6 7]]\n",
      "\n",
      " [[3 4 5]\n",
      "  [0 1 2]]\n",
      "\n",
      " [[1 2 3]\n",
      "  [5 6 7]]\n",
      "\n",
      " [[3 4 5]\n",
      "  [0 1 2]]]\n",
      "shape of a: (4, 2, 3)\n"
     ]
    }
   ],
   "source": [
    "#3D Arrays\n",
    "a = np.array([[[1,2,3],[5,6,7]], [[3,4,5],[0,1,2]],[[1,2,3],[5,6,7]], [[3,4,5],[0,1,2]]])\n",
    "print(\"a: \"+str(a))\n",
    "print(\"shape of a: \" + str(np.shape(a)))"
   ]
  },
  {
   "cell_type": "code",
   "execution_count": null,
   "metadata": {},
   "outputs": [],
   "source": []
  }
 ],
 "metadata": {
  "kernelspec": {
   "display_name": "Python 3",
   "language": "python",
   "name": "python3"
  },
  "language_info": {
   "codemirror_mode": {
    "name": "ipython",
    "version": 3
   },
   "file_extension": ".py",
   "mimetype": "text/x-python",
   "name": "python",
   "nbconvert_exporter": "python",
   "pygments_lexer": "ipython3",
   "version": "3.5.6"
  }
 },
 "nbformat": 4,
 "nbformat_minor": 2
}
